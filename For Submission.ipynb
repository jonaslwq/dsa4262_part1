{
 "cells": [
  {
   "cell_type": "markdown",
   "metadata": {},
   "source": [
    "# Reading in data"
   ]
  },
  {
   "cell_type": "code",
   "execution_count": 1,
   "metadata": {},
   "outputs": [],
   "source": [
    "import os\n",
    "import pandas as pd\n",
    "import numpy as np\n",
    "\n",
    "from sklearn.preprocessing import StandardScaler, OneHotEncoder\n",
    "\n",
    "from tensorflow.keras.models import Sequential\n",
    "from tensorflow.keras.layers import Dense, Dropout\n"
   ]
  },
  {
   "cell_type": "code",
   "execution_count": 2,
   "metadata": {},
   "outputs": [
    {
     "name": "stdout",
     "output_type": "stream",
     "text": [
      "(4000, 12)\n",
      "(4000,)\n",
      "(2000, 12)\n"
     ]
    }
   ],
   "source": [
    "CURRENT_DIR = os.getcwd()\n",
    "X_TRAIN_DIR = CURRENT_DIR + \"\\\\data\\\\data_X.csv\"\n",
    "Y_TRAIN_DIR = CURRENT_DIR + \"\\\\data\\\\data_Y.csv\"\n",
    "X_TEST_DIR = CURRENT_DIR + \"\\\\data\\\\X_for_grading.csv\"\n",
    "\n",
    "X_train = pd.read_csv(X_TRAIN_DIR)\n",
    "y_train = pd.read_csv(Y_TRAIN_DIR).squeeze().ravel()\n",
    "X_test = pd.read_csv(X_TEST_DIR)\n",
    "\n",
    "print(X_train.shape)\n",
    "print(y_train.shape)\n",
    "print(X_test.shape)"
   ]
  },
  {
   "cell_type": "code",
   "execution_count": 3,
   "metadata": {},
   "outputs": [],
   "source": [
    "def process_X(X):\n",
    "\n",
    "    # Define preprocessing steps for numerical and categorical features\n",
    "    numeric_features = ['X1', 'X2', 'X3', 'X4', 'X5', 'X6', 'X10', 'X11']\n",
    "    numeric_transformer = StandardScaler()\n",
    "\n",
    "    categorical_features = ['X7', 'X8', 'X9', 'X12']\n",
    "    categorical_transformer = OneHotEncoder(handle_unknown='ignore')\n",
    "\n",
    "    # Apply transformations to numerical features\n",
    "    X_numeric = numeric_transformer.fit_transform(X[numeric_features])\n",
    "\n",
    "    # Apply transformations to categorical features\n",
    "    X_categorical = categorical_transformer.fit_transform(X[categorical_features])\n",
    "\n",
    "    # Concatenate transformed numerical and categorical features\n",
    "    X_processed = pd.concat([pd.DataFrame(X_numeric, columns=numeric_features),\n",
    "                            pd.DataFrame(X_categorical.toarray(), columns=categorical_transformer.get_feature_names_out(categorical_features))],\n",
    "                        axis=1)\n",
    "    \n",
    "    return X_processed"
   ]
  },
  {
   "cell_type": "code",
   "execution_count": 4,
   "metadata": {},
   "outputs": [],
   "source": [
    "X_train_processed = process_X(X_train)\n",
    "X_test_processed = process_X(X_test)"
   ]
  },
  {
   "cell_type": "code",
   "execution_count": 5,
   "metadata": {},
   "outputs": [
    {
     "data": {
      "text/plain": [
       "Index(['X1', 'X2', 'X3', 'X4', 'X5', 'X6', 'X10', 'X11', 'X7_0', 'X7_1',\n",
       "       'X8_0', 'X8_1', 'X9_0', 'X9_1', 'X12_A', 'X12_B', 'X12_C'],\n",
       "      dtype='object')"
      ]
     },
     "execution_count": 5,
     "metadata": {},
     "output_type": "execute_result"
    }
   ],
   "source": [
    "X_train_processed.columns"
   ]
  },
  {
   "cell_type": "code",
   "execution_count": 7,
   "metadata": {},
   "outputs": [
    {
     "name": "stdout",
     "output_type": "stream",
     "text": [
      "Model: \"sequential\"\n",
      "_________________________________________________________________\n",
      " Layer (type)                Output Shape              Param #   \n",
      "=================================================================\n",
      " dense (Dense)               (None, 64)                1152      \n",
      "                                                                 \n",
      " dropout (Dropout)           (None, 64)                0         \n",
      "                                                                 \n",
      " dense_1 (Dense)             (None, 64)                4160      \n",
      "                                                                 \n",
      " dropout_1 (Dropout)         (None, 64)                0         \n",
      "                                                                 \n",
      " dense_2 (Dense)             (None, 1)                 65        \n",
      "                                                                 \n",
      "=================================================================\n",
      "Total params: 5,377\n",
      "Trainable params: 5,377\n",
      "Non-trainable params: 0\n",
      "_________________________________________________________________\n"
     ]
    }
   ],
   "source": [
    "model = Sequential()\n",
    "model.add(Dense(units=64, activation='relu', input_dim=17))\n",
    "model.add(Dropout(0.1))\n",
    "model.add(Dense(units=64, activation='relu'))\n",
    "model.add(Dropout(0.1))\n",
    "model.add(Dense(units=1, activation='linear'))\n",
    "model.compile(optimizer=\"Adamax\", loss='mean_squared_error')\n",
    "\n",
    "model.summary()"
   ]
  },
  {
   "cell_type": "code",
   "execution_count": 8,
   "metadata": {},
   "outputs": [
    {
     "data": {
      "text/plain": [
       "<keras.callbacks.History at 0x26032957010>"
      ]
     },
     "execution_count": 8,
     "metadata": {},
     "output_type": "execute_result"
    }
   ],
   "source": [
    "model.fit(X_train_processed, y_train, epochs=300, batch_size=32, verbose=0)"
   ]
  },
  {
   "cell_type": "code",
   "execution_count": 9,
   "metadata": {},
   "outputs": [
    {
     "name": "stdout",
     "output_type": "stream",
     "text": [
      "63/63 [==============================] - 0s 1ms/step\n"
     ]
    }
   ],
   "source": [
    "y_pred = model.predict(X_test_processed)\n",
    "\n",
    "y_pred.shape\n",
    "\n",
    "y_pred_df = pd.DataFrame({'Y_predict': y_pred.flatten()})\n",
    "\n",
    "y_pred_df.to_csv('y_for_grading.csv', index=False)"
   ]
  }
 ],
 "metadata": {
  "kernelspec": {
   "display_name": "base",
   "language": "python",
   "name": "python3"
  },
  "language_info": {
   "codemirror_mode": {
    "name": "ipython",
    "version": 3
   },
   "file_extension": ".py",
   "mimetype": "text/x-python",
   "name": "python",
   "nbconvert_exporter": "python",
   "pygments_lexer": "ipython3",
   "version": "3.10.13"
  }
 },
 "nbformat": 4,
 "nbformat_minor": 2
}
